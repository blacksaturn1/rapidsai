{
  "nbformat": 4,
  "nbformat_minor": 0,
  "metadata": {
    "colab": {
      "name": "rapids-colab-0.8.ipynb",
      "version": "0.3.2",
      "provenance": [],
      "include_colab_link": true
    },
    "kernelspec": {
      "name": "python3",
      "display_name": "Python 3"
    },
    "accelerator": "GPU"
  },
  "cells": [
    {
      "cell_type": "markdown",
      "metadata": {
        "id": "view-in-github",
        "colab_type": "text"
      },
      "source": [
        "<a href=\"https://colab.research.google.com/github/blacksaturn1/rapidsai/blob/master/rapids_colab_0_8.ipynb\" target=\"_parent\"><img src=\"https://colab.research.google.com/assets/colab-badge.svg\" alt=\"Open In Colab\"/></a>"
      ]
    },
    {
      "cell_type": "markdown",
      "metadata": {
        "id": "L3CR--oLtH0J",
        "colab_type": "text"
      },
      "source": [
        "#Setup:\n",
        "\n",
        "1. Use pynvml to confirm Colab allocated you a Tesla T4 GPU.\n",
        "2. Install most recent Miniconda release compatible with Google Colab's Python install  (3.6.7)\n",
        "3. Install RAPIDS libraries\n",
        "4. Copy RAPIDS .so files into current working directory, a workaround for conda/colab interactions\n",
        "5. Update env variables so Python can find and use RAPIDS artifacts\n",
        "\n",
        "All of the above steps are automated in the next cell.\n",
        "\n",
        "You should re-run this cell any time your instance re-starts."
      ]
    },
    {
      "cell_type": "code",
      "metadata": {
        "id": "fpOc6658aveF",
        "colab_type": "code",
        "colab": {}
      },
      "source": [
        ""
      ],
      "execution_count": 0,
      "outputs": []
    },
    {
      "cell_type": "code",
      "metadata": {
        "id": "dI3leihFavrM",
        "colab_type": "code",
        "colab": {}
      },
      "source": [
        ""
      ],
      "execution_count": 0,
      "outputs": []
    },
    {
      "cell_type": "code",
      "metadata": {
        "id": "3EN-u_90tKZW",
        "colab_type": "code",
        "outputId": "e06ac814-5399-4c19-f438-28d55437b0bc",
        "colab": {
          "base_uri": "https://localhost:8080/",
          "height": 3451
        }
      },
      "source": [
        "!wget -nc https://github.com/rapidsai/notebooks-extended/raw/master/utils/rapids-colab.sh\n",
        "!chmod +x rapids-colab.sh\n",
        "!./rapids-colab.sh\n",
        "\n",
        "import sys, os\n",
        "\n",
        "sys.path.append('/usr/local/lib/python3.6/site-packages/')\n",
        "os.environ['NUMBAPRO_NVVM'] = '/usr/local/cuda/nvvm/lib64/libnvvm.so'\n",
        "os.environ['NUMBAPRO_LIBDEVICE'] = '/usr/local/cuda/nvvm/libdevice/'\n",
        "\n",
        "import nvstrings, nvcategory, cudf, cuml, cugraph, xgboost\n",
        "import dask_cudf, dask_cuml"
      ],
      "execution_count": 0,
      "outputs": [
        {
          "output_type": "stream",
          "text": [
            "--2019-06-21 03:01:32--  https://github.com/rapidsai/notebooks-extended/raw/master/utils/rapids-colab.sh\n",
            "Resolving github.com (github.com)... 192.30.253.113\n",
            "Connecting to github.com (github.com)|192.30.253.113|:443... connected.\n",
            "HTTP request sent, awaiting response... 302 Found\n",
            "Location: https://raw.githubusercontent.com/rapidsai/notebooks-extended/master/utils/rapids-colab.sh [following]\n",
            "--2019-06-21 03:01:32--  https://raw.githubusercontent.com/rapidsai/notebooks-extended/master/utils/rapids-colab.sh\n",
            "Resolving raw.githubusercontent.com (raw.githubusercontent.com)... 151.101.0.133, 151.101.64.133, 151.101.128.133, ...\n",
            "Connecting to raw.githubusercontent.com (raw.githubusercontent.com)|151.101.0.133|:443... connected.\n",
            "HTTP request sent, awaiting response... 200 OK\n",
            "Length: 1557 (1.5K) [text/plain]\n",
            "Saving to: ‘rapids-colab.sh’\n",
            "\n",
            "rapids-colab.sh     100%[===================>]   1.52K  --.-KB/s    in 0s      \n",
            "\n",
            "2019-06-21 03:01:33 (178 MB/s) - ‘rapids-colab.sh’ saved [1557/1557]\n",
            "\n",
            "--2019-06-21 03:01:34--  https://github.com/rapidsai/notebooks-extended/raw/master/utils/env-check.py\n",
            "Resolving github.com (github.com)... 192.30.253.113\n",
            "Connecting to github.com (github.com)|192.30.253.113|:443... connected.\n",
            "HTTP request sent, awaiting response... 302 Found\n",
            "Location: https://raw.githubusercontent.com/rapidsai/notebooks-extended/master/utils/env-check.py [following]\n",
            "--2019-06-21 03:01:35--  https://raw.githubusercontent.com/rapidsai/notebooks-extended/master/utils/env-check.py\n",
            "Resolving raw.githubusercontent.com (raw.githubusercontent.com)... 151.101.0.133, 151.101.64.133, 151.101.128.133, ...\n",
            "Connecting to raw.githubusercontent.com (raw.githubusercontent.com)|151.101.0.133|:443... connected.\n",
            "HTTP request sent, awaiting response... 200 OK\n",
            "Length: 783 [text/plain]\n",
            "Saving to: ‘env-check.py’\n",
            "\n",
            "env-check.py        100%[===================>]     783  --.-KB/s    in 0s      \n",
            "\n",
            "2019-06-21 03:01:35 (114 MB/s) - ‘env-check.py’ saved [783/783]\n",
            "\n",
            "Checking for GPU type:\n",
            "*********************************************\n",
            "Woo! Your instance has the right kind of GPU!\n",
            "*********************************************\n",
            "\n",
            "Removing conflicting packages, will replace with RAPIDS compatible versions\n",
            "Uninstalling xgboost-0.90:\n",
            "  Successfully uninstalled xgboost-0.90\n",
            "Uninstalling dask-1.1.5:\n",
            "  Successfully uninstalled dask-1.1.5\n",
            "Uninstalling distributed-1.25.3:\n",
            "  Successfully uninstalled distributed-1.25.3\n",
            "Installing conda\n",
            "--2019-06-21 03:01:40--  https://repo.continuum.io/miniconda/Miniconda3-4.5.4-Linux-x86_64.sh\n",
            "Resolving repo.continuum.io (repo.continuum.io)... 104.18.201.79, 104.18.200.79, 2606:4700::6812:c84f, ...\n",
            "Connecting to repo.continuum.io (repo.continuum.io)|104.18.201.79|:443... connected.\n",
            "HTTP request sent, awaiting response... 200 OK\n",
            "Length: 58468498 (56M) [application/x-sh]\n",
            "Saving to: ‘Miniconda3-4.5.4-Linux-x86_64.sh’\n",
            "\n",
            "Miniconda3-4.5.4-Li 100%[===================>]  55.76M  72.4MB/s    in 0.8s    \n",
            "\n",
            "2019-06-21 03:01:41 (72.4 MB/s) - ‘Miniconda3-4.5.4-Linux-x86_64.sh’ saved [58468498/58468498]\n",
            "\n",
            "PREFIX=/usr/local\n",
            "installing: python-3.6.5-hc3d631a_2 ...\n",
            "Python 3.6.5 :: Anaconda, Inc.\n",
            "installing: ca-certificates-2018.03.07-0 ...\n",
            "installing: conda-env-2.6.0-h36134e3_1 ...\n",
            "installing: libgcc-ng-7.2.0-hdf63c60_3 ...\n",
            "installing: libstdcxx-ng-7.2.0-hdf63c60_3 ...\n",
            "installing: libffi-3.2.1-hd88cf55_4 ...\n",
            "installing: ncurses-6.1-hf484d3e_0 ...\n",
            "installing: openssl-1.0.2o-h20670df_0 ...\n",
            "installing: tk-8.6.7-hc745277_3 ...\n",
            "installing: xz-5.2.4-h14c3975_4 ...\n",
            "installing: yaml-0.1.7-had09818_2 ...\n",
            "installing: zlib-1.2.11-ha838bed_2 ...\n",
            "installing: libedit-3.1.20170329-h6b74fdf_2 ...\n",
            "installing: readline-7.0-ha6073c6_4 ...\n",
            "installing: sqlite-3.23.1-he433501_0 ...\n",
            "installing: asn1crypto-0.24.0-py36_0 ...\n",
            "installing: certifi-2018.4.16-py36_0 ...\n",
            "installing: chardet-3.0.4-py36h0f667ec_1 ...\n",
            "installing: idna-2.6-py36h82fb2a8_1 ...\n",
            "installing: pycosat-0.6.3-py36h0a5515d_0 ...\n",
            "installing: pycparser-2.18-py36hf9f622e_1 ...\n",
            "installing: pysocks-1.6.8-py36_0 ...\n",
            "installing: ruamel_yaml-0.15.37-py36h14c3975_2 ...\n",
            "installing: six-1.11.0-py36h372c433_1 ...\n",
            "installing: cffi-1.11.5-py36h9745a5d_0 ...\n",
            "installing: setuptools-39.2.0-py36_0 ...\n",
            "installing: cryptography-2.2.2-py36h14c3975_0 ...\n",
            "installing: wheel-0.31.1-py36_0 ...\n",
            "installing: pip-10.0.1-py36_0 ...\n",
            "installing: pyopenssl-18.0.0-py36_0 ...\n",
            "installing: urllib3-1.22-py36hbe7ace6_0 ...\n",
            "installing: requests-2.18.4-py36he2e5f8d_1 ...\n",
            "installing: conda-4.5.4-py36_0 ...\n",
            "installation finished.\n",
            "WARNING:\n",
            "    You currently have a PYTHONPATH environment variable set. This may cause\n",
            "    unexpected behavior when running the Python interpreter in Miniconda3.\n",
            "    For best results, please verify that your PYTHONPATH only points to\n",
            "    directories of packages that are compatible with the Python interpreter\n",
            "    in Miniconda3: /usr/local\n",
            "Installing RAPIDS packages\n",
            "Please standby, this will take a few minutes...\n",
            "click-7.0            |   61 KB | : 100% 1.0/1 [00:00<00:00, 12.91it/s]\n",
            "pytz-2019.1          |  227 KB | : 100% 1.0/1 [00:00<00:00,  3.80it/s]               \n",
            "conda-4.6.14         |  2.1 MB | : 100% 1.0/1 [00:00<00:00,  1.51it/s]               \n",
            "python-dateutil-2.8. |  219 KB | : 100% 1.0/1 [00:00<00:00, 13.97it/s]\n",
            "blinker-1.4          |   13 KB | : 100% 1.0/1 [00:00<00:00, 25.86it/s]\n",
            "numpy-1.16.4         |  4.3 MB | : 100% 1.0/1 [00:01<00:00,  1.17s/it]               \n",
            "arrow-cpp-0.12.1     |  6.9 MB | : 100% 1.0/1 [00:01<00:00,  1.49s/it]               \n",
            "llvmlite-0.28.0      | 20.2 MB | : 100% 1.0/1 [00:03<00:00,  3.85s/it]               \n",
            "libcumlmg-0.0.0.dev0 |  953 KB | : 100% 1.0/1 [00:01<00:00,  1.10s/it]               \n",
            "cudf-0.8.0a1         |  3.2 MB | : 100% 1.0/1 [00:00<00:00,  1.02it/s]               \n",
            "dask-xgboost-0.2.0.d |   14 KB | : 100% 1.0/1 [00:00<00:00,  4.33it/s] \n",
            "libtiff-4.0.10       |  587 KB | : 100% 1.0/1 [00:00<00:00,  4.97it/s]               \n",
            "pyyaml-5.1.1         |  184 KB | : 100% 1.0/1 [00:00<00:00, 12.23it/s]\n",
            "parquet-cpp-1.5.1    |    3 KB | : 100% 1.0/1 [00:00<00:00, 14.10it/s]\n",
            "freetype-2.10.0      |  885 KB | : 100% 1.0/1 [00:00<00:00,  4.54it/s]               \n",
            "msgpack-python-0.6.1 |   89 KB | : 100% 1.0/1 [00:00<00:00, 19.16it/s]\n",
            "pyparsing-2.4.0      |   55 KB | : 100% 1.0/1 [00:00<00:00, 13.45it/s]\n",
            "partd-0.3.10         |   16 KB | : 100% 1.0/1 [00:00<00:00, 15.59it/s]\n",
            "jinja2-2.10.1        |   91 KB | : 100% 1.0/1 [00:00<00:00, 12.32it/s]\n",
            "libstdcxx-ng-9.1.0   |  4.0 MB | : 100% 1.0/1 [00:00<00:00,  1.29it/s]               \n",
            "libpng-1.6.37        |  343 KB | : 100% 1.0/1 [00:00<00:00,  7.94it/s]               \n",
            "openblas-0.3.5       | 15.8 MB | : 100% 1.0/1 [00:03<00:00,  3.57s/it]               \n",
            "distributed-1.28.1   |  853 KB | : 100% 1.0/1 [00:00<00:00,  2.60it/s]               \n",
            "bzip2-1.0.6          |  415 KB | : 100% 1.0/1 [00:00<00:00,  7.54it/s]               \n",
            "markupsafe-1.1.1     |   26 KB | : 100% 1.0/1 [00:00<00:00, 21.16it/s]\n",
            "psutil-5.6.3         |  322 KB | : 100% 1.0/1 [00:00<00:00,  7.48it/s]               \n",
            "libcugraph-0.8.0a    | 10.6 MB | : 100% 1.0/1 [00:03<00:00,  3.18s/it]               \n",
            "libcblas-3.8.0       |    6 KB | : 100% 1.0/1 [00:00<00:00, 25.77it/s]\n",
            "openssl-1.1.1b       |  4.0 MB | : 100% 1.0/1 [00:00<00:00,  1.28it/s]               \n",
            "requests-oauthlib-1. |   19 KB | : 100% 1.0/1 [00:00<00:00, 25.50it/s]\n",
            "ca-certificates-2019 |  145 KB | : 100% 1.0/1 [00:00<00:00, 15.60it/s]\n",
            "cugraph-0.8.0a       |  633 KB | : 100% 1.0/1 [00:00<00:00,  2.54it/s]               \n",
            "libcudf-0.8.0a1      | 16.7 MB | : 100% 1.0/1 [00:04<00:00,  4.66s/it]               \n",
            "zstd-1.4.0           |  928 KB | : 100% 1.0/1 [00:00<00:00,  4.41it/s]               \n",
            "thrift-cpp-0.12.0    |  2.4 MB | : 100% 1.0/1 [00:00<00:00,  1.71it/s]               \n",
            "libblas-3.8.0        |    6 KB | : 100% 1.0/1 [00:00<00:00, 27.61it/s]\n",
            "libgfortran-ng-7.3.0 |  1.3 MB | : 100% 1.0/1 [00:00<00:00,  3.26it/s]               \n",
            "gcsfs-0.2.2          |   26 KB | : 100% 1.0/1 [00:00<00:00, 20.86it/s]\n",
            "boost-1.68.0         |  325 KB | : 100% 1.0/1 [00:00<00:00,  5.71it/s]               \n",
            "certifi-2019.6.16    |  148 KB | : 100% 1.0/1 [00:00<00:00, 14.35it/s]\n",
            "scipy-1.3.0          | 18.8 MB | : 100% 1.0/1 [00:03<00:00,  3.91s/it]               \n",
            "decorator-4.4.0      |   11 KB | : 100% 1.0/1 [00:00<00:00, 22.63it/s]\n",
            "libgcc-ng-9.1.0      |  8.1 MB | : 100% 1.0/1 [00:01<00:00,  1.50s/it]               \n",
            "pyasn1-modules-0.2.5 |   38 KB | : 100% 1.0/1 [00:00<00:00, 10.88it/s]\n",
            "libnvstrings-0.8.0a  | 19.8 MB | : 100% 1.0/1 [00:07<00:00,  7.20s/it]               \n",
            "bokeh-1.2.0          |  3.8 MB | : 100% 1.0/1 [00:01<00:00,  1.50s/it]               \n",
            "dask-1.2.2           |    4 KB | : 100% 1.0/1 [00:00<00:00, 28.76it/s]\n",
            "nvstrings-0.8.0a     |  119 KB | : 100% 1.0/1 [00:00<00:00,  1.49it/s]               \n",
            "toolz-0.9.0          |   42 KB | : 100% 1.0/1 [00:00<00:00, 18.18it/s]\n",
            "boost-cpp-1.68.0     | 20.5 MB | : 100% 1.0/1 [00:09<00:00,  9.68s/it]               \n",
            "tornado-6.0.2        |  636 KB | : 100% 1.0/1 [00:00<00:00,  4.13it/s]               \n",
            "libprotobuf-3.6.1    |  4.0 MB | : 100% 1.0/1 [00:01<00:00,  1.01s/it]               \n",
            "pandas-0.24.2        | 11.1 MB | : 100% 1.0/1 [00:02<00:00,  2.83s/it]               \n",
            "pynvml-8.0.1         |   28 KB | : 100% 1.0/1 [00:00<00:00,  5.04it/s]               \n",
            "heapdict-1.0.0       |    7 KB | : 100% 1.0/1 [00:00<00:00, 11.46it/s]\n",
            "xgboost-0.90.rapidsd |   12 KB | : 100% 1.0/1 [00:00<00:00,  2.17it/s] \n",
            "liblapack-3.8.0      |    6 KB | : 100% 1.0/1 [00:00<00:00,  9.05it/s]\n",
            "tk-8.6.9             |  3.2 MB | : 100% 1.0/1 [00:00<00:00,  1.32it/s]               \n",
            "cloudpickle-1.2.1    |   22 KB | : 100% 1.0/1 [00:00<00:00, 19.43it/s]\n",
            "sqlite-3.28.0        |  1.9 MB | : 100% 1.0/1 [00:00<00:00,  2.59it/s]               \n",
            "icu-58.2             | 22.6 MB | : 100% 1.0/1 [00:04<00:00,  4.39s/it]               \n",
            "cuml-0.8.0a          |  3.8 MB | : 100% 1.0/1 [00:01<00:00,  1.40s/it]               \n",
            "rsa-3.4.2            |   31 KB | : 100% 1.0/1 [00:00<00:00, 12.46it/s]\n",
            "cython-0.29.10       |  2.2 MB | : 100% 1.0/1 [00:00<00:00,  1.55it/s]               \n",
            "cudatoolkit-10.0.130 | 380.0 MB | : 100% 1.0/1 [01:00<00:00, 60.42s/it]                \n",
            "rmm-0.8.0a           |   14 KB | : 100% 1.0/1 [00:00<00:00,  1.36it/s] \n",
            "libxgboost-0.90.rapi | 28.9 MB | : 100% 1.0/1 [00:08<00:00,  8.87s/it]               \n",
            "zict-0.1.4           |   10 KB | : 100% 1.0/1 [00:00<00:00, 22.60it/s]\n",
            "dask-core-1.2.2      |  534 KB | : 100% 1.0/1 [00:00<00:00,  4.38it/s]              \n",
            "google-auth-oauthlib |   18 KB | : 100% 1.0/1 [00:00<00:00, 23.95it/s]\n",
            "nccl-2.4.6.1         | 66.5 MB | : 100% 1.0/1 [00:18<00:00, 18.61s/it]               \n",
            "cryptography-2.7     |  607 KB | : 100% 1.0/1 [00:00<00:00,  3.88it/s]               \n",
            "numba-0.43.1         |  2.9 MB | : 100% 1.0/1 [00:01<00:00,  1.02s/it]               \n",
            "dask-cuml-0.8.0a     |   30 KB | : 100% 1.0/1 [00:00<00:00,  1.77it/s]               \n",
            "python-3.6.7         | 34.5 MB | : 100% 1.0/1 [00:06<00:00,  6.14s/it]               \n",
            "sortedcontainers-2.1 |   25 KB | : 100% 1.0/1 [00:00<00:00, 13.60it/s]\n",
            "scikit-learn-0.21.2  |  6.7 MB | : 100% 1.0/1 [00:01<00:00,  1.64s/it]               \n",
            "dask-cuda-0.8.0a1    |  895 KB | : 100% 1.0/1 [00:01<00:00,  1.37s/it]               \n",
            "locket-0.2.0         |    6 KB | : 100% 1.0/1 [00:00<00:00, 22.18it/s]\n",
            "joblib-0.13.2        |  180 KB | : 100% 1.0/1 [00:00<00:00,  8.05it/s]\n",
            "lz4-c-1.8.3          |  187 KB | : 100% 1.0/1 [00:00<00:00, 12.98it/s]\n",
            "oauthlib-3.0.1       |   82 KB | : 100% 1.0/1 [00:00<00:00, 13.13it/s]\n",
            "pyasn1-0.4.5         |   49 KB | : 100% 1.0/1 [00:00<00:00, 19.36it/s]\n",
            "pyarrow-0.12.1       |  2.2 MB | : 100% 1.0/1 [00:00<00:00,  1.35it/s]               \n",
            "cachetools-2.1.0     |   10 KB | : 100% 1.0/1 [00:00<00:00, 20.33it/s]\n",
            "packaging-19.0       |   23 KB | : 100% 1.0/1 [00:00<00:00, 22.07it/s]\n",
            "google-auth-1.6.3    |   45 KB | : 100% 1.0/1 [00:00<00:00, 16.45it/s]\n",
            "libcuml-0.8.0a       | 25.3 MB | : 100% 1.0/1 [00:07<00:00,  7.35s/it]              \n",
            "tblib-1.4.0          |   12 KB | : 100% 1.0/1 [00:00<00:00,  1.18it/s] \n",
            "librmm-0.8.0a        |   39 KB | : 100% 1.0/1 [00:00<00:00,  1.08it/s]               \n",
            "cytoolz-0.9.0.1      |  416 KB | : 100% 1.0/1 [00:00<00:00,  5.91s/it]                 \n",
            "dask-cudf-0.8.0a     |   66 KB | : 100% 1.0/1 [00:00<00:00,  2.70it/s]                \n",
            "jpeg-9c              |  251 KB | : 100% 1.0/1 [00:00<00:00,  8.57it/s]\n",
            "pyjwt-1.7.1          |   17 KB | : 100% 1.0/1 [00:00<00:00, 22.26it/s]\n",
            "py-xgboost-0.90.rapi |   87 KB | : 100% 1.0/1 [00:00<00:00,  3.35it/s]               \n",
            "olefile-0.46         |   31 KB | : 100% 1.0/1 [00:00<00:00, 13.48it/s]\n",
            "pillow-6.0.0         |  615 KB | : 100% 1.0/1 [00:00<00:00,  2.10it/s]               \n",
            "Copying shared object files to /usr/lib\n",
            "\n",
            "*********************************************\n",
            "Your Google Colab instance is RAPIDS ready!\n",
            "*********************************************\n"
          ],
          "name": "stdout"
        }
      ]
    },
    {
      "cell_type": "markdown",
      "metadata": {
        "id": "8xErLYOxtU4f",
        "colab_type": "text"
      },
      "source": [
        "# RAPIDS Examples #\n",
        "\n",
        "Now you can run code! \n",
        "\n",
        "What follows are basic examples where all processing takes place on the GPU."
      ]
    },
    {
      "cell_type": "markdown",
      "metadata": {
        "id": "HE-am5SntmlE",
        "colab_type": "text"
      },
      "source": [
        "#[cuDF](https://github.com/rapidsai/cudf)#\n",
        "\n",
        "Load a dataset into a GPU memory resident DataFrame and perform a basic calculation.\n",
        "\n",
        "Everything from CSV parsing to calculating tip percentage and computing a grouped average is done on the GPU."
      ]
    },
    {
      "cell_type": "code",
      "metadata": {
        "id": "SQWxtDETtqnY",
        "colab_type": "code",
        "outputId": "17260579-bf37-4d1f-e62a-69a18a4dafed",
        "colab": {
          "base_uri": "https://localhost:8080/",
          "height": 153
        }
      },
      "source": [
        "import cudf\n",
        "import io, requests\n",
        "\n",
        "# download CSV file from GitHub\n",
        "url=\"https://github.com/plotly/datasets/raw/master/tips.csv\"\n",
        "content = requests.get(url).content.decode('utf-8')\n",
        "\n",
        "# read CSV from memory\n",
        "tips_df = cudf.read_csv(io.StringIO(content))\n",
        "tips_df['tip_percentage'] = tips_df['tip']/tips_df['total_bill']*100\n",
        "\n",
        "# display average tip by dining party size\n",
        "print(tips_df.groupby('size').tip_percentage.mean())"
      ],
      "execution_count": 0,
      "outputs": [
        {
          "output_type": "stream",
          "text": [
            "size\n",
            "1     21.72920154872781\n",
            "2    16.571919173482886\n",
            "3    15.215685473711835\n",
            "4    14.594900639351332\n",
            "5    14.149548965142023\n",
            "6    15.622920072028379\n",
            "Name: tip_percentage, dtype: float64\n"
          ],
          "name": "stdout"
        }
      ]
    },
    {
      "cell_type": "markdown",
      "metadata": {
        "id": "uOkjdCMvtuU0",
        "colab_type": "text"
      },
      "source": [
        "#[cuML](https://github.com/rapidsai/cuml)\n",
        "\n",
        "This snippet does label and one-hot encoding of the tips dataset's categorical features and applies standard scaling to all columns. All operations run on the GPU."
      ]
    },
    {
      "cell_type": "code",
      "metadata": {
        "id": "U3mAVL76CB4l",
        "colab_type": "code",
        "outputId": "3c8c75fd-a07d-4663-c6f6-40f7917ca53e",
        "colab": {
          "base_uri": "https://localhost:8080/",
          "height": 204
        }
      },
      "source": [
        "import cuml\n",
        "\n",
        "# label encode the categorical features of the tips dataset\n",
        "for col in ['sex', 'smoker', 'day', 'time']:\n",
        "  le = cuml.preprocessing.LabelEncoder()\n",
        "  tips_df[col] = le.fit_transform(tips_df[col])\n",
        "\n",
        "# day and time are non-binary categorical features, one-hot-encode them\n",
        "tips_df = cudf.get_dummies(tips_df, columns=['day', 'time'])\n",
        "tips_df = tips_df.drop(['day', 'time'])\n",
        "\n",
        "# do standard scaling on all columns\n",
        "for col in tips_df.columns:\n",
        "  tips_df[col] = (tips_df[col] - tips_df[col].mean())/tips_df[col].std()\n",
        "\n",
        "# inspect the results\n",
        "tips_df.head().to_pandas()"
      ],
      "execution_count": 0,
      "outputs": [
        {
          "output_type": "execute_result",
          "data": {
            "text/html": [
              "<div>\n",
              "<style scoped>\n",
              "    .dataframe tbody tr th:only-of-type {\n",
              "        vertical-align: middle;\n",
              "    }\n",
              "\n",
              "    .dataframe tbody tr th {\n",
              "        vertical-align: top;\n",
              "    }\n",
              "\n",
              "    .dataframe thead th {\n",
              "        text-align: right;\n",
              "    }\n",
              "</style>\n",
              "<table border=\"1\" class=\"dataframe\">\n",
              "  <thead>\n",
              "    <tr style=\"text-align: right;\">\n",
              "      <th></th>\n",
              "      <th>total_bill</th>\n",
              "      <th>tip</th>\n",
              "      <th>sex</th>\n",
              "      <th>smoker</th>\n",
              "      <th>size</th>\n",
              "      <th>tip_percentage</th>\n",
              "      <th>day_0</th>\n",
              "      <th>day_1</th>\n",
              "      <th>day_2</th>\n",
              "      <th>day_3</th>\n",
              "      <th>time_0</th>\n",
              "      <th>time_1</th>\n",
              "    </tr>\n",
              "  </thead>\n",
              "  <tbody>\n",
              "    <tr>\n",
              "      <th>0</th>\n",
              "      <td>-0.314066</td>\n",
              "      <td>-1.436993</td>\n",
              "      <td>-1.340598</td>\n",
              "      <td>-0.783179</td>\n",
              "      <td>-0.598961</td>\n",
              "      <td>-1.659607</td>\n",
              "      <td>-0.289997</td>\n",
              "      <td>-0.742879</td>\n",
              "      <td>1.483734</td>\n",
              "      <td>-0.582463</td>\n",
              "      <td>0.620307</td>\n",
              "      <td>-0.620307</td>\n",
              "    </tr>\n",
              "    <tr>\n",
              "      <th>1</th>\n",
              "      <td>-1.061054</td>\n",
              "      <td>-0.967217</td>\n",
              "      <td>0.742879</td>\n",
              "      <td>-0.783179</td>\n",
              "      <td>0.452453</td>\n",
              "      <td>-0.004274</td>\n",
              "      <td>-0.289997</td>\n",
              "      <td>-0.742879</td>\n",
              "      <td>1.483734</td>\n",
              "      <td>-0.582463</td>\n",
              "      <td>0.620307</td>\n",
              "      <td>-0.620307</td>\n",
              "    </tr>\n",
              "    <tr>\n",
              "      <th>2</th>\n",
              "      <td>0.137497</td>\n",
              "      <td>0.362610</td>\n",
              "      <td>0.742879</td>\n",
              "      <td>-0.783179</td>\n",
              "      <td>0.452453</td>\n",
              "      <td>0.094720</td>\n",
              "      <td>-0.289997</td>\n",
              "      <td>-0.742879</td>\n",
              "      <td>1.483734</td>\n",
              "      <td>-0.582463</td>\n",
              "      <td>0.620307</td>\n",
              "      <td>-0.620307</td>\n",
              "    </tr>\n",
              "    <tr>\n",
              "      <th>3</th>\n",
              "      <td>0.437416</td>\n",
              "      <td>0.225291</td>\n",
              "      <td>0.742879</td>\n",
              "      <td>-0.783179</td>\n",
              "      <td>-0.598961</td>\n",
              "      <td>-0.344218</td>\n",
              "      <td>-0.289997</td>\n",
              "      <td>-0.742879</td>\n",
              "      <td>1.483734</td>\n",
              "      <td>-0.582463</td>\n",
              "      <td>0.620307</td>\n",
              "      <td>-0.620307</td>\n",
              "    </tr>\n",
              "    <tr>\n",
              "      <th>4</th>\n",
              "      <td>0.539635</td>\n",
              "      <td>0.442111</td>\n",
              "      <td>-1.340598</td>\n",
              "      <td>-0.783179</td>\n",
              "      <td>1.503867</td>\n",
              "      <td>-0.229154</td>\n",
              "      <td>-0.289997</td>\n",
              "      <td>-0.742879</td>\n",
              "      <td>1.483734</td>\n",
              "      <td>-0.582463</td>\n",
              "      <td>0.620307</td>\n",
              "      <td>-0.620307</td>\n",
              "    </tr>\n",
              "  </tbody>\n",
              "</table>\n",
              "</div>"
            ],
            "text/plain": [
              "   total_bill       tip       sex  ...     day_3    time_0    time_1\n",
              "0   -0.314066 -1.436993 -1.340598  ... -0.582463  0.620307 -0.620307\n",
              "1   -1.061054 -0.967217  0.742879  ... -0.582463  0.620307 -0.620307\n",
              "2    0.137497  0.362610  0.742879  ... -0.582463  0.620307 -0.620307\n",
              "3    0.437416  0.225291  0.742879  ... -0.582463  0.620307 -0.620307\n",
              "4    0.539635  0.442111 -1.340598  ... -0.582463  0.620307 -0.620307\n",
              "\n",
              "[5 rows x 12 columns]"
            ]
          },
          "metadata": {
            "tags": []
          },
          "execution_count": 16
        }
      ]
    },
    {
      "cell_type": "markdown",
      "metadata": {
        "id": "P9AaiYyGEU2i",
        "colab_type": "text"
      },
      "source": [
        "## K-Nearest Neighbors\n",
        "Lastly, create a K-Nearest Neighbors model and find the 5 most similar tippers."
      ]
    },
    {
      "cell_type": "code",
      "metadata": {
        "id": "VKLgolqQ-z_I",
        "colab_type": "code",
        "outputId": "59cc660f-ccb5-45a4-ba87-e623166bb1bd",
        "colab": {
          "base_uri": "https://localhost:8080/",
          "height": 204
        }
      },
      "source": [
        "# create a KNN model\n",
        "knn = cuml.NearestNeighbors()\n",
        "knn.fit(tips_df)\n",
        "\n",
        "# find 5 nearest neighbors\n",
        "k = 5\n",
        "distances_df, indices_df = knn.kneighbors(tips_df, k)\n",
        "indices_df.head().to_pandas()"
      ],
      "execution_count": 0,
      "outputs": [
        {
          "output_type": "execute_result",
          "data": {
            "text/html": [
              "<div>\n",
              "<style scoped>\n",
              "    .dataframe tbody tr th:only-of-type {\n",
              "        vertical-align: middle;\n",
              "    }\n",
              "\n",
              "    .dataframe tbody tr th {\n",
              "        vertical-align: top;\n",
              "    }\n",
              "\n",
              "    .dataframe thead th {\n",
              "        text-align: right;\n",
              "    }\n",
              "</style>\n",
              "<table border=\"1\" class=\"dataframe\">\n",
              "  <thead>\n",
              "    <tr style=\"text-align: right;\">\n",
              "      <th></th>\n",
              "      <th>0</th>\n",
              "      <th>1</th>\n",
              "      <th>2</th>\n",
              "      <th>3</th>\n",
              "      <th>4</th>\n",
              "    </tr>\n",
              "  </thead>\n",
              "  <tbody>\n",
              "    <tr>\n",
              "      <th>0</th>\n",
              "      <td>0</td>\n",
              "      <td>162</td>\n",
              "      <td>16</td>\n",
              "      <td>12</td>\n",
              "      <td>166</td>\n",
              "    </tr>\n",
              "    <tr>\n",
              "      <th>1</th>\n",
              "      <td>1</td>\n",
              "      <td>53</td>\n",
              "      <td>10</td>\n",
              "      <td>152</td>\n",
              "      <td>151</td>\n",
              "    </tr>\n",
              "    <tr>\n",
              "      <th>2</th>\n",
              "      <td>2</td>\n",
              "      <td>165</td>\n",
              "      <td>152</td>\n",
              "      <td>160</td>\n",
              "      <td>55</td>\n",
              "    </tr>\n",
              "    <tr>\n",
              "      <th>3</th>\n",
              "      <td>3</td>\n",
              "      <td>45</td>\n",
              "      <td>113</td>\n",
              "      <td>49</td>\n",
              "      <td>55</td>\n",
              "    </tr>\n",
              "    <tr>\n",
              "      <th>4</th>\n",
              "      <td>4</td>\n",
              "      <td>157</td>\n",
              "      <td>114</td>\n",
              "      <td>11</td>\n",
              "      <td>52</td>\n",
              "    </tr>\n",
              "  </tbody>\n",
              "</table>\n",
              "</div>"
            ],
            "text/plain": [
              "   0    1    2    3    4\n",
              "0  0  162   16   12  166\n",
              "1  1   53   10  152  151\n",
              "2  2  165  152  160   55\n",
              "3  3   45  113   49   55\n",
              "4  4  157  114   11   52"
            ]
          },
          "metadata": {
            "tags": []
          },
          "execution_count": 14
        }
      ]
    },
    {
      "cell_type": "markdown",
      "metadata": {
        "id": "DPYE_RTHMKBD",
        "colab_type": "text"
      },
      "source": [
        "##Determining Feature Importance with XGBoost\n",
        "\n",
        "Lastly, we can use [XGBoost](https://github.com/dmlc/xgboost)'s GPU accelerated decision trees to determine which features have the greatest impact on tip percentage."
      ]
    },
    {
      "cell_type": "code",
      "metadata": {
        "id": "sjZTA8pRL8Bh",
        "colab_type": "code",
        "outputId": "62f0d137-7e69-40ae-c621-f1652d9a80f6",
        "colab": {
          "base_uri": "https://localhost:8080/",
          "height": 312
        }
      },
      "source": [
        "import xgboost as xgb\n",
        "\n",
        "params = {\n",
        "  'n_gpus':       1,\n",
        "  'tree_method':  'gpu_hist',\n",
        "  'objective':    'reg:squarederror'\n",
        "}\n",
        "\n",
        "X_feature_names = [\"total_bill\", \"sex\", \"smoker\", \"size\",\n",
        "                   \"day_0\",    \"day_1\",    \"day_2\", \"day_3\",\n",
        "                   \"time_0\",    \"time_1\"]\n",
        "\n",
        "X_train = tips_df[X_feature_names]\n",
        "y_train = cudf.DataFrame({'y': tips_df['tip_percentage']})\n",
        "\n",
        "# Convert to XGBoost's DMatrix format and train the model\n",
        "dmatrix_train = xgb.DMatrix(X_train,\n",
        "                            label=y_train,\n",
        "                            feature_names=X_train.columns)\n",
        "\n",
        "bst = xgb.train(params, dmatrix_train)\n",
        "\n",
        "# See what data is the most important for predicting % tipped\n",
        "xgb.plot_importance(bst)"
      ],
      "execution_count": 0,
      "outputs": [
        {
          "output_type": "execute_result",
          "data": {
            "text/plain": [
              "<matplotlib.axes._subplots.AxesSubplot at 0x7fee5c03ad30>"
            ]
          },
          "metadata": {
            "tags": []
          },
          "execution_count": 17
        },
        {
          "output_type": "display_data",
          "data": {
            "image/png": "[encoded data removed]",
            "text/plain": [
              "<Figure size 432x288 with 1 Axes>"
            ]
          },
          "metadata": {
            "tags": []
          }
        }
      ]
    },
    {
      "cell_type": "markdown",
      "metadata": {
        "id": "HdxlltBFuh65",
        "colab_type": "text"
      },
      "source": [
        "#[cuGraph](https://github.com/rapidsai/cugraph)\n",
        "\n",
        "Like the cuDF snippet above, this code loads a CSV file from a URL, then dives into cugraph to computes the PageRank score for each vertex.  Those scores are then used as weight to compute the Weighted Jaccard Similarity which is used to find the most common nodes in the Epinions dataset."
      ]
    },
    {
      "cell_type": "code",
      "metadata": {
        "id": "iGOXOoCzulnP",
        "colab_type": "code",
        "outputId": "476ffc82-7740-4558-aa93-ecfb9b6b9574",
        "colab": {
          "base_uri": "https://localhost:8080/",
          "height": 51
        }
      },
      "source": [
        "import cugraph, cudf\n",
        "import gzip, io\n",
        "from collections import OrderedDict\n",
        "\n",
        "# download some data\n",
        "url=\"https://snap.stanford.edu/data/soc-Epinions1.txt.gz\"\n",
        "content = gzip.decompress(requests.get(url).content).decode()\n",
        "\n",
        "cols = [\"src\", \"dst\"]\n",
        "dtypes = OrderedDict([ (\"src\", \"int32\"), (\"dst\", \"int32\")])\n",
        "# read the CSV data from memory buffer\n",
        "gdf = cudf.read_csv(io.StringIO(content), names=cols, delimiter='\\t', dtype=list(dtypes.values()), skiprows=4)\n",
        "\n",
        "# create a Graph \n",
        "G = cugraph.Graph()\n",
        "G.add_edge_list(gdf[\"src\"], gdf[\"dst\"])\n",
        "\n",
        "# Call Pagerank on the graph to get weights to use:\n",
        "pr_df = cugraph.pagerank(G)\n",
        "\n",
        "# find the max page rank value - there could be more than one with the max score\n",
        "pr_max = pr_df['pagerank'].max()\n",
        "\n",
        "pr_filtered = pr_df.query('pagerank >= @pr_max')\n",
        "    \n",
        "for i in range(len(pr_filtered)):\n",
        "    print(\"PageRank: top vertex is \" + str(pr_filtered['vertex'][i]) + \n",
        "        \" with score of \" + str(pr_filtered['pagerank'][i]))  \n",
        "\n",
        "# Call weighted Jaccard using the Pagerank scores as weights:\n",
        "df = cugraph.jaccard_w(G, pr_df['pagerank'])\n",
        "\n",
        "max_coeff = df['jaccard_coeff'].max()\n",
        "j_gdf = df.query('jaccard_coeff >= @max_coeff')\n",
        "\n",
        "for i in range(len(j_gdf)):\n",
        "    print(\"Weighted Jaccard Similarity: Vertices \" + str(j_gdf['source'][i]) + \n",
        "      \" and \" + str(j_gdf['destination'][i] ) + \n",
        "      \" are most similar with score: \" + str(df['jaccard_coeff'][i]))"
      ],
      "execution_count": 0,
      "outputs": [
        {
          "output_type": "stream",
          "text": [
            "PageRank: top vertex is 18 with score of 0.004534927\n",
            "Weighted Jaccard Similarity: Vertices 22693 and 57123 are most similar with score: 0.26571962\n"
          ],
          "name": "stdout"
        }
      ]
    },
    {
      "cell_type": "markdown",
      "metadata": {
        "id": "ys95ryXAt2j2",
        "colab_type": "text"
      },
      "source": [
        "# Next Steps #\n",
        "\n",
        "For an overview of how you can access and work with your own datasets in Colab, check out [this guide](https://towardsdatascience.com/3-ways-to-load-csv-files-into-colab-7c14fcbdcb92).\n",
        "\n",
        "For more RAPIDS examples, check out our RAPIDS notebooks repos:\n",
        "1. https://github.com/rapidsai/notebooks\n",
        "2. https://github.com/rapidsai/notebooks-extended"
      ]
    }
  ]
}